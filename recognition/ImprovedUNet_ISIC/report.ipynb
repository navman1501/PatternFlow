{
 "cells": [
  {
   "cell_type": "code",
   "execution_count": 1,
   "metadata": {},
   "outputs": [],
   "source": [
    "#Import libraries\n",
    "import matplotlib.pyplot as plt\n",
    "import numpy as np\n",
    "import tensorflow as tf\n",
    "import PIL as pil\n",
    "import os\n",
    "import PIL\n",
    "import pathlib\n",
    "import glob\n",
    "from tensorflow.keras.layers import *\n",
    "from tensorflow.keras.models import *\n",
    "\n",
    "\n",
    "#Set to GPU\n",
    "devices = tf.config.list_physical_devices('GPU') \n",
    "tf.config.experimental.set_memory_growth(devices[0], True)\n",
    "\n",
    "#Path\n",
    "images_source = pathlib.Path(\"D:\\s4532664\\COMP3710\\ISIC2018_Task1-2_Training_Data\")\n",
    "\n",
    "#Input images\n",
    "input_dir = images_source / \"ISIC2018_Task1-2_Training_Input_x2\\*.jpg\"\n",
    "\n",
    "#Segmentation images (label images)\n",
    "seg_dir = images_source / \"ISIC2018_Task1_Training_GroundTruth_x2\\*.png\"\n",
    "                             \n",
    "#Setup arrays for training, testing and validation datasets\n",
    "X_train = None\n",
    "X_test = None\n",
    "X_valid = None\n",
    "y_train = None\n",
    "y_test = None\n",
    "y_valid = None\n",
    "\n",
    "training = None\n",
    "validation = None\n",
    "testing = None"
   ]
  },
  {
   "cell_type": "code",
   "execution_count": 2,
   "metadata": {},
   "outputs": [
    {
     "name": "stdout",
     "output_type": "stream",
     "text": [
      "D:\\s4532664\\COMP3710\\ISIC2018_Task1-2_Training_Data\\ISIC2018_Task1-2_Training_Input_x2\\*.jpg\n",
      "D:\\s4532664\\COMP3710\\ISIC2018_Task1-2_Training_Data\\ISIC2018_Task1_Training_GroundTruth_x2\\*.png\n"
     ]
    }
   ],
   "source": [
    "print(input_dir)\n",
    "print(seg_dir)"
   ]
  },
  {
   "cell_type": "code",
   "execution_count": 3,
   "metadata": {},
   "outputs": [],
   "source": [
    "#Process every filename in the array as an image, using TF functions. \n",
    "#Normalise every image by either 0 or 1 and divide it by 255 for scaling purposes\n",
    "\n",
    "def convert_file_image(input_file, seg_file):\n",
    "    input_image = tf.cast(tf.image.resize(tf.image.convert_image_dtype(tf.image.decode_jpeg(tf.io.read_file(input_file),\\\n",
    "                                                                                        channels=3), tf.uint8), (512, 384)), \\\n",
    "                      tf.float32) / 255.0\n",
    "    seg_image = tf.cast(tf.image.resize(tf.image.decode_jpeg(tf.io.read_file(input_file), channels=3), (512, 384)),  \\\n",
    "                      tf.float32) / 255.0        \n",
    "    return input_image, seg_image"
   ]
  },
  {
   "cell_type": "code",
   "execution_count": 4,
   "metadata": {},
   "outputs": [],
   "source": [
    "#Load images from disk into training, testing and validation arrays (DO DOCSTRING)\n",
    "def load_data(xtrain, xtest, xvalid, ytrain, ytest, yvalid, inputdir, segdir):\n",
    "    \n",
    "    xtrain = sorted(glob.glob(str(inputdir)))\n",
    "    ytrain = sorted(glob.glob(str(segdir)))\n",
    "    \n",
    "    #Split the images into 3 datasets (Training - 50%, Validation - 25%, Testing - 25%)\n",
    "    \n",
    "    half_length = int(len(xtrain)/2)\n",
    "    quarter_length_ceil = int(tf.math.ceil(len(xtrain)/4))\n",
    "    print(quarter_length_ceil)\n",
    "    \n",
    "    xtest = xtrain[-(quarter_length_ceil-1):]\n",
    "    xvalid = xtrain[half_length:half_length + quarter_length_ceil]\n",
    "    xtrain = xtrain[0:half_length]\n",
    "    \n",
    "    ytest = ytrain[-(quarter_length_ceil-1):]\n",
    "    yvalid = ytrain[half_length:half_length + quarter_length_ceil]\n",
    "    ytrain = ytrain[0:half_length]\n",
    "     \n",
    "    traindata = tf.data.Dataset.from_tensor_slices((xtrain, ytrain))\n",
    "    validdata = tf.data.Dataset.from_tensor_slices((xvalid, yvalid))\n",
    "    testdata = tf.data.Dataset.from_tensor_slices((xtest, ytest))\n",
    "    \n",
    "    traindata = traindata.map(convert_file_image)\n",
    "    validdata = validdata.map(convert_file_image)\n",
    "    testdata = testdata.map(convert_file_image)\n",
    "    \n",
    "    return traindata, validdata, testdata"
   ]
  },
  {
   "cell_type": "code",
   "execution_count": 5,
   "metadata": {},
   "outputs": [
    {
     "name": "stdout",
     "output_type": "stream",
     "text": [
      "649\n"
     ]
    }
   ],
   "source": [
    "training, validation, testing = load_data(X_train, X_test, X_valid, y_train, \\\n",
    "                                                         y_test, y_valid, input_dir, seg_dir)"
   ]
  },
  {
   "cell_type": "code",
   "execution_count": 10,
   "metadata": {},
   "outputs": [],
   "source": [
    "def unet_model():\n",
    "    inputs = Input((512, 384, 3))\n",
    "\n",
    "    conv2D_1 = Conv2D(32, 3, activation = 'relu', padding = 'same')(inputs)\n",
    "    conv2D_1 = Conv2D(32, 3, activation = 'relu', padding = 'same', kernel_initializer = 'he_normal')(conv2D_1)\n",
    "    conv2D_1 = Dropout(0.25)(conv2D_1)\n",
    "    maxpool2D_1 = MaxPooling2D(pool_size=(2, 2))(conv2D_1)\n",
    "    maxpool2D_1 = BatchNormalization()(maxpool2D_1)\n",
    "        \n",
    "    conv2D_2 = Conv2D(64, 3, activation = 'relu', padding = 'same', kernel_initializer = 'he_normal')(maxpool2D_1)\n",
    "    conv2D_2 = Conv2D(64, 3, activation = 'relu', padding = 'same', kernel_initializer = 'he_normal')(conv2D_2)\n",
    "    conv2D_2 = Dropout(0.25)(conv2D_2)\n",
    "    maxpool2D_2 = MaxPooling2D(pool_size=(2, 2))(conv2D_2)\n",
    "    maxpool2D_2 = BatchNormalization()(maxpool2D_2)\n",
    "\n",
    "    conv2D_3 = Conv2D(128, 3, activation = 'relu', padding = 'same', kernel_initializer = 'he_normal')(maxpool2D_2)\n",
    "    conv2D_3 = Conv2D(128, 3, activation = 'relu', padding = 'same', kernel_initializer = 'he_normal')(conv2D_3)\n",
    "    conv2D_3 = Dropout(0.25)(conv2D_3)\n",
    "    maxpool2D_3 = MaxPooling2D(pool_size=(2, 2))(conv2D_3)\n",
    "    maxpool2D_3 = BatchNormalization()(maxpool2D_3)\n",
    "\n",
    "    conv2D_4 = Conv2D(256, 3, activation = 'relu', padding = 'same', kernel_initializer = 'he_normal')(maxpool2D_3)\n",
    "    conv2D_4 = Conv2D(256, 3, activation = 'relu', padding = 'same', kernel_initializer = 'he_normal')(conv2D_4)\n",
    "    dropout_4 = Dropout(0.5)(conv2D_4)\n",
    "    maxpool2D_4 = MaxPooling2D(pool_size=(2, 2))(dropout_4)\n",
    "    maxpool2D_4 = BatchNormalization()(maxpool2D_4)\n",
    "\n",
    "    conv2D_5 = Conv2D(512, 3, activation = 'relu', padding = 'same', kernel_initializer = 'he_normal')(maxpool2D_4)\n",
    "    conv2D_5 = Conv2D(512, 3, activation = 'relu', padding = 'same', kernel_initializer = 'he_normal')(conv2D_5)\n",
    "    dropout_5 = Dropout(0.5)(conv2D_5)\n",
    "    dropout_5 = BatchNormalization()(dropout_5)\n",
    "\n",
    "    upsample_6 = Conv2D(256, 2, activation = 'relu', padding = 'same', kernel_initializer = 'he_normal')(UpSampling2D(size = (2,2))(dropout_5))\n",
    "    concat_6 = concatenate([dropout_4,upsample_6], axis = 3)\n",
    "    conv2D_6 = Conv2D(256, 3, activation = 'relu', padding = 'same', kernel_initializer = 'he_normal')(concat_6)\n",
    "    conv2D_6 = Conv2D(256, 3, activation = 'relu', padding = 'same', kernel_initializer = 'he_normal')(conv2D_6)\n",
    "    conv2D_6 = BatchNormalization()(conv2D_6)\n",
    "\n",
    "    upsample_7 = Conv2D(128, 2, activation = 'relu', padding = 'same', kernel_initializer = 'he_normal')(UpSampling2D(size = (2,2))(conv2D_6))\n",
    "    concat_7 = concatenate([conv2D_3,upsample_7], axis = 3)\n",
    "    conv2D_7 = Conv2D(128, 3, activation = 'relu', padding = 'same', kernel_initializer = 'he_normal')(concat_7)\n",
    "    conv2D_7 = Conv2D(128, 3, activation = 'relu', padding = 'same', kernel_initializer = 'he_normal')(conv2D_7)\n",
    "    conv2D_7 = BatchNormalization()(conv2D_7)\n",
    "\n",
    "    upsample_8 = Conv2D(64, 2, activation = 'relu', padding = 'same', kernel_initializer = 'he_normal')(UpSampling2D(size = (2,2))(conv2D_7))\n",
    "    concat_8 = concatenate([conv2D_2,upsample_8], axis = 3)\n",
    "    conv2D_8 = Conv2D(64, 3, activation = 'relu', padding = 'same', kernel_initializer = 'he_normal')(concat_8)\n",
    "    conv2D_8 = Conv2D(64, 3, activation = 'relu', padding = 'same', kernel_initializer = 'he_normal')(conv2D_8)\n",
    "    conv2D_8 = BatchNormalization()(conv2D_8)\n",
    "\n",
    "    upsample_9 = Conv2D(32, 2, activation = 'relu', padding = 'same', kernel_initializer = 'he_normal')(UpSampling2D(size = (2,2))(conv2D_8))\n",
    "    concat_9 = concatenate([conv2D_1,upsample_9], axis = 3)\n",
    "    conv2D_9 = Conv2D(32, 3, activation = 'relu', padding = 'same', kernel_initializer = 'he_normal')(concat_9)\n",
    "    conv2D_9 = Conv2D(32, 3, activation = 'relu', padding = 'same', kernel_initializer = 'he_normal')(conv2D_9)\n",
    "    conv2D_9 = Conv2D(2, 3, activation = 'relu', padding = 'same', kernel_initializer = 'he_normal')(conv2D_9)\n",
    "    conv2D_9 = BatchNormalization()(conv2D_9)\n",
    "\n",
    "    conv2D_10 = Conv2D(3, 1, activation = 'softmax')(conv2D_9)\n",
    "\n",
    "    model = tf.keras.Model(inputs=inputs, outputs=conv2D_10)\n",
    "\n",
    "    opt = tf.keras.optimizers.Adam(lr=0.001)\n",
    "\n",
    "    model.compile(optimizer=opt, loss='binary_crossentropy', metrics=['accuracy'])\n",
    "\n",
    "    return model"
   ]
  },
  {
   "cell_type": "code",
   "execution_count": 11,
   "metadata": {},
   "outputs": [
    {
     "name": "stdout",
     "output_type": "stream",
     "text": [
      "Train for 1297 steps, validate for 649 steps\n",
      "Epoch 1/2\n",
      "1297/1297 [==============================] - 101s 78ms/step - loss: 0.8337 - accuracy: 0.0022 - val_loss: 0.8022 - val_accuracy: 1.0760e-05\n",
      "Epoch 2/2\n",
      "1297/1297 [==============================] - 95s 73ms/step - loss: 0.8332 - accuracy: 0.0022 - val_loss: 0.8022 - val_accuracy: 1.0760e-05\n"
     ]
    }
   ],
   "source": [
    "model = unet_model()\n",
    "\n",
    "results = model.fit(x=training.batch(1), epochs = 2, validation_data = validation.batch(1))"
   ]
  },
  {
   "cell_type": "code",
   "execution_count": 12,
   "metadata": {},
   "outputs": [
    {
     "name": "stdout",
     "output_type": "stream",
     "text": [
      "648/648 [==============================] - 35s 54ms/step - loss: 0.7980 - accuracy: 8.7811e-04\n"
     ]
    },
    {
     "data": {
      "image/png": "[encoded data removed]",
      "text/plain": [
       "<Figure size 432x288 with 1 Axes>"
      ]
     },
     "metadata": {
      "needs_background": "light"
     },
     "output_type": "display_data"
    }
   ],
   "source": [
    "plt.plot(results.history['accuracy'], label='Training data accuracy')\n",
    "plt.plot(results.history['val_accuracy'], label = 'Test data accuracy')\n",
    "plt.xlabel('Epoch')\n",
    "plt.ylabel('Accuracy')\n",
    "plt.legend(loc='lower right')\n",
    "\n",
    "test_loss, test_acc = model.evaluate(x=testing.batch(1))"
   ]
  },
  {
   "cell_type": "code",
   "execution_count": null,
   "metadata": {},
   "outputs": [],
   "source": []
  }
 ],
 "metadata": {
  "kernelspec": {
   "display_name": "Python 3",
   "language": "python",
   "name": "python3"
  },
  "language_info": {
   "codemirror_mode": {
    "name": "ipython",
    "version": 3
   },
   "file_extension": ".py",
   "mimetype": "text/x-python",
   "name": "python",
   "nbconvert_exporter": "python",
   "pygments_lexer": "ipython3",
   "version": "3.7.7"
  }
 },
 "nbformat": 4,
 "nbformat_minor": 4
}
