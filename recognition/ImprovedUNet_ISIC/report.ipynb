{
 "cells": [
  {
   "cell_type": "code",
   "execution_count": null,
   "metadata": {},
   "outputs": [],
   "source": [
    "#Import libraries\n",
    "import matplotlib.pyplot as plt\n",
    "import numpy as np\n",
    "import tensorflow as tf\n",
    "import PIL as pil\n",
    "import os\n",
    "import PIL\n",
    "import pathlib\n",
    "import glob\n",
    "\n",
    "#Set to GPU\n",
    "devices = tf.config.list_physical_devices('GPU') \n",
    "tf.config.experimental.set_memory_growth(devices[0], True)\n",
    "\n",
    "#Path\n",
    "images_source = pathlib.Path(\"D:\\s4532664\\COMP3710\\ISIC2018_Task1-2_Training_Data\")\n",
    "\n",
    "#Input images\n",
    "input_dir = images_source / \"ISIC2018_Task1-2_Training_Input_x2\\*.jpg\"\n",
    "\n",
    "#Segmentation images (label images)\n",
    "seg_dir = images_source / \"ISIC2018_Task1_Training_GroundTruth_x2\\*.png\"\n",
    "                             \n",
    "#Setup arrays for training, testing and validation datasets\n",
    "X_train = None\n",
    "X_test = None\n",
    "X_valid = None\n",
    "y_train = None\n",
    "y_test = None\n",
    "y_valid = None\n",
    "\n",
    "training_data = None\n",
    "validation_data = None\n",
    "testing_data = None"
   ]
  },
  {
   "cell_type": "code",
   "execution_count": null,
   "metadata": {},
   "outputs": [],
   "source": [
    "print(input_dir)\n",
    "print(seg_dir)"
   ]
  },
  {
   "cell_type": "code",
   "execution_count": null,
   "metadata": {},
   "outputs": [],
   "source": [
    "#Process every filename in the array as an image, using TF functions. \n",
    "#Normalise every image by either 0 or 1 and divide it by 255 for scaling purposes\n",
    "\n",
    "def convert_file_image(input_file, seg_file):\n",
    "    input_image = tf.cast(tf.image.convert_image_dtype(tf.image.decode_jpeg(tf.io.read_file(input_file), \\\n",
    "                                                                    channels=3), tf.uint8), tf.float32) / 255.0\n",
    "    seg_image = tf.cast(tf.image.decode_png(tf.io.read_file(seg_file), channels=3), tf.float32) / 255.0\n",
    "    \n",
    "    return input_image, seg_image"
   ]
  },
  {
   "cell_type": "code",
   "execution_count": null,
   "metadata": {},
   "outputs": [],
   "source": [
    "#Load images from disk into training, testing and validation arrays (DO DOCSTRING)\n",
    "def load_data(xtrain, xtest, xvalid, ytrain, ytest, yvalid, inputdir, segdir):\n",
    "    \n",
    "    xtrain = sorted(glob.glob(str(inputdir)))\n",
    "    ytrain = sorted(glob.glob(str(segdir)))\n",
    "    \n",
    "    #Split the images into 3 datasets (Training - 50%, Validation - 25%, Testing - 25%)\n",
    "    \n",
    "    half_length = int(len(xtrain)/2)\n",
    "    quarter_length_ceil = int(tf.math.ceil(len(xtrain)/4))\n",
    "    print(quarter_length_ceil)\n",
    "    \n",
    "    xtest = xtrain[-(quarter_length_ceil-1):]\n",
    "    xvalid = xtrain[half_length:half_length + quarter_length_ceil]\n",
    "    xtrain = xtrain[0:half_length]\n",
    "    \n",
    "    ytest = ytrain[-(quarter_length_ceil-1):]\n",
    "    yvalid = ytrain[half_length:half_length + quarter_length_ceil]\n",
    "    ytrain = ytrain[0:half_length]\n",
    "     \n",
    "    traindata = tf.data.Dataset.from_tensor_slices((xtrain, ytrain))\n",
    "    validdata = tf.data.Dataset.from_tensor_slices((xvalid, yvalid))\n",
    "    testdata = tf.data.Dataset.from_tensor_slices((xtest, ytest))\n",
    "    \n",
    "    traindata = traindata.map(convert_file_image)\n",
    "    validdata = validdata.map(convert_file_image)\n",
    "    testdata = testdata.map(convert_file_image)\n",
    "    \n",
    "    return traindata, validdata, testdata"
   ]
  },
  {
   "cell_type": "code",
   "execution_count": null,
   "metadata": {},
   "outputs": [],
   "source": [
    "training_data, validation_data, testing_data = load_data(X_train, X_test, X_valid, y_train, \\\n",
    "                                                         y_test, y_valid, input_dir, seg_dir)"
   ]
  },
  {
   "cell_type": "code",
   "execution_count": null,
   "metadata": {},
   "outputs": [],
   "source": []
  },
  {
   "cell_type": "code",
   "execution_count": null,
   "metadata": {},
   "outputs": [],
   "source": []
  },
  {
   "cell_type": "code",
   "execution_count": null,
   "metadata": {},
   "outputs": [],
   "source": []
  }
 ],
 "metadata": {
  "kernelspec": {
   "display_name": "Python 3",
   "language": "python",
   "name": "python3"
  },
  "language_info": {
   "codemirror_mode": {
    "name": "ipython",
    "version": 3
   },
   "file_extension": ".py",
   "mimetype": "text/x-python",
   "name": "python",
   "nbconvert_exporter": "python",
   "pygments_lexer": "ipython3",
   "version": "3.7.7"
  }
 },
 "nbformat": 4,
 "nbformat_minor": 4
}
