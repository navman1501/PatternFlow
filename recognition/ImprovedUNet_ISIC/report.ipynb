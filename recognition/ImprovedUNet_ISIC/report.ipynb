{
 "cells": [
  {
   "cell_type": "code",
   "execution_count": 9,
   "metadata": {},
   "outputs": [],
   "source": [
    "#Import libraries\n",
    "import matplotlib.pyplot as plt\n",
    "import numpy as np\n",
    "import tensorflow as tf\n",
    "import PIL as pil\n",
    "import os\n",
    "import PIL\n",
    "import pathlib\n",
    "import glob\n",
    "\n",
    "#Set to GPU\n",
    "devices = tf.config.list_physical_devices('GPU') \n",
    "tf.config.experimental.set_memory_growth(devices[0], True)\n",
    "\n",
    "#Path\n",
    "images_source = pathlib.Path(\"D:\\s4532664\\COMP3710\\ISIC2018_Task1-2_Training_Data\")\n",
    "\n",
    "#Input images\n",
    "training_dir = images_source / \"ISIC2018_Task1-2_Training_Input_x2\\*.jpg\"\n",
    "\n",
    "#Segmentation images (label images)\n",
    "seg_training_dir = images_source / \"ISIC2018_Task1_Training_GroundTruth_x2\\*.png\"\n",
    "                             \n"
   ]
  },
  {
   "cell_type": "code",
   "execution_count": 10,
   "metadata": {},
   "outputs": [
    {
     "name": "stdout",
     "output_type": "stream",
     "text": [
      "D:\\s4532664\\COMP3710\\ISIC2018_Task1-2_Training_Data\\ISIC2018_Task1-2_Training_Input_x2\\*.jpg\n",
      "D:\\s4532664\\COMP3710\\ISIC2018_Task1-2_Training_Data\\ISIC2018_Task1_Training_GroundTruth_x2\\*.png\n"
     ]
    }
   ],
   "source": [
    "print(training_dir)\n",
    "print(seg_training_dir)\n"
   ]
  },
  {
   "cell_type": "code",
   "execution_count": 11,
   "metadata": {},
   "outputs": [],
   "source": [
    "def load_data():\n",
    "    \n",
    "    input_files = sorted(glob.glob(str(training_dir)))\n",
    "    seg_files = sorted(glob.glob(str(seg_training_dir)))\n",
    "\n",
    "    print(\"Input images:\", len(input_files), \"Segmentation images:\", len(seg_files))\n",
    "\n"
   ]
  },
  {
   "cell_type": "code",
   "execution_count": 12,
   "metadata": {},
   "outputs": [
    {
     "name": "stdout",
     "output_type": "stream",
     "text": [
      "Input images: 2594 Segmentation images: 2594\n"
     ]
    }
   ],
   "source": [
    "load_data()"
   ]
  },
  {
   "cell_type": "code",
   "execution_count": null,
   "metadata": {},
   "outputs": [],
   "source": []
  },
  {
   "cell_type": "code",
   "execution_count": null,
   "metadata": {},
   "outputs": [],
   "source": []
  }
 ],
 "metadata": {
  "kernelspec": {
   "display_name": "Python 3",
   "language": "python",
   "name": "python3"
  },
  "language_info": {
   "codemirror_mode": {
    "name": "ipython",
    "version": 3
   },
   "file_extension": ".py",
   "mimetype": "text/x-python",
   "name": "python",
   "nbconvert_exporter": "python",
   "pygments_lexer": "ipython3",
   "version": "3.7.7"
  }
 },
 "nbformat": 4,
 "nbformat_minor": 4
}
